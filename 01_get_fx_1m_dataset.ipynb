{
 "cells": [
  {
   "cell_type": "markdown",
   "metadata": {},
   "source": [
    "- [histdata:philipperemy/FX-1-Minute-Data](https://github.com/philipperemy/FX-1-Minute-Data)で提供されるライブラリを用いて、 [HistData.com](https://www.histdata.com/f-a-q/)によって提供される為替データをダウンロードし加工する。\n",
    "- タイムゾーンは「Eastern Standard Time (EST) time-zone」で、サマータイムの考慮は無い。つまり＋14時間で日本時間となる。"
   ]
  },
  {
   "cell_type": "code",
   "execution_count": 1,
   "metadata": {},
   "outputs": [],
   "source": [
    "from histdata import download_hist_data as dl\n",
    "from histdata.api import Platform as P, TimeFrame as TF\n",
    "import shutil\n",
    "import os"
   ]
  },
  {
   "cell_type": "markdown",
   "metadata": {},
   "source": [
    "# Python用のライブラリ（histdata）を用いてFXのデータセットを取得する/ Get historical fx datasets using python library \"histdata\".  "
   ]
  },
  {
   "cell_type": "code",
   "execution_count": 2,
   "metadata": {},
   "outputs": [],
   "source": [
    "folder_in = './data_in/'\n",
    "y = '2022'\n",
    "mon = '5'\n",
    "currencyPair =['usdjpy', 'gbpjpy', 'gbpusd']"
   ]
  },
  {
   "cell_type": "markdown",
   "metadata": {},
   "source": [
    "## 保存フォルダ内のファイルをすべて削除 / Delete all files that already exist in the destination."
   ]
  },
  {
   "cell_type": "code",
   "execution_count": 3,
   "metadata": {},
   "outputs": [],
   "source": [
    "for file in os.listdir(folder_in):\n",
    "    os.remove(folder_in + file)"
   ]
  },
  {
   "cell_type": "markdown",
   "metadata": {},
   "source": [
    "## FX-1-Minute-Dataset取得 / Get historical fx datasets."
   ]
  },
  {
   "cell_type": "code",
   "execution_count": 4,
   "metadata": {},
   "outputs": [
    {
     "name": "stdout",
     "output_type": "stream",
     "text": [
      "https://www.histdata.com/download-free-forex-historical-data/?/ascii/1-minute-bar-quotes/usdjpy/2022/5\n",
      "{'tk': 'f124913a3ae6cba886ae00d0b97ea43b', 'date': '2022', 'datemonth': '202205', 'platform': 'ASCII', 'timeframe': 'M1', 'fxpair': 'USDJPY'}\n",
      "Wrote to ./data_in/DAT_ASCII_USDJPY_M1_202205.zip\n",
      "https://www.histdata.com/download-free-forex-historical-data/?/ascii/1-minute-bar-quotes/gbpjpy/2022/5\n",
      "{'tk': '4f04598be86fbbfdc6e235766f382ff0', 'date': '2022', 'datemonth': '202205', 'platform': 'ASCII', 'timeframe': 'M1', 'fxpair': 'GBPJPY'}\n",
      "Wrote to ./data_in/DAT_ASCII_GBPJPY_M1_202205.zip\n",
      "https://www.histdata.com/download-free-forex-historical-data/?/ascii/1-minute-bar-quotes/gbpusd/2022/5\n",
      "{'tk': '36a414c85b3db5cd1fc768e5783eb8c8', 'date': '2022', 'datemonth': '202205', 'platform': 'ASCII', 'timeframe': 'M1', 'fxpair': 'GBPUSD'}\n",
      "Wrote to ./data_in/DAT_ASCII_GBPUSD_M1_202205.zip\n"
     ]
    }
   ],
   "source": [
    "for cp in currencyPair:\n",
    "    zipfile = dl(year=y, month=mon, pair=cp, platform=P.GENERIC_ASCII, time_frame=TF.ONE_MINUTE, output_directory=folder_in)\n",
    "    shutil.unpack_archive(zipfile, folder_in)\n",
    "    csvfile = zipfile.replace('zip', 'csv')\n",
    "    os.rename(csvfile, folder_in + cp + \".csv\")"
   ]
  },
  {
   "cell_type": "code",
   "execution_count": null,
   "metadata": {},
   "outputs": [],
   "source": []
  }
 ],
 "metadata": {
  "kernelspec": {
   "display_name": "Python 3",
   "language": "python",
   "name": "python3"
  },
  "language_info": {
   "codemirror_mode": {
    "name": "ipython",
    "version": 3
   },
   "file_extension": ".py",
   "mimetype": "text/x-python",
   "name": "python",
   "nbconvert_exporter": "python",
   "pygments_lexer": "ipython3",
   "version": "3.8.5"
  },
  "toc": {
   "base_numbering": 1,
   "nav_menu": {},
   "number_sections": true,
   "sideBar": true,
   "skip_h1_title": false,
   "title_cell": "Table of Contents",
   "title_sidebar": "Contents",
   "toc_cell": false,
   "toc_position": {},
   "toc_section_display": true,
   "toc_window_display": false
  }
 },
 "nbformat": 4,
 "nbformat_minor": 4
}
